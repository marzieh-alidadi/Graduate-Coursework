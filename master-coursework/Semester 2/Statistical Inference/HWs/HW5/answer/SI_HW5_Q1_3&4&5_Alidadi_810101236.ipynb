{
  "nbformat": 4,
  "nbformat_minor": 0,
  "metadata": {
    "colab": {
      "provenance": []
    },
    "kernelspec": {
      "name": "ir",
      "display_name": "R"
    },
    "language_info": {
      "name": "R"
    }
  },
  "cells": [
    {
      "cell_type": "code",
      "source": [
        "install.packages(\"DescTools\")\n"
      ],
      "metadata": {
        "colab": {
          "base_uri": "https://localhost:8080/"
        },
        "id": "oHg-7SX5m0g2",
        "outputId": "78da559c-9d3d-48b7-b0ca-e4d31e020a21"
      },
      "execution_count": null,
      "outputs": [
        {
          "output_type": "stream",
          "name": "stderr",
          "text": [
            "Installing package into ‘/usr/local/lib/R/site-library’\n",
            "(as ‘lib’ is unspecified)\n",
            "\n",
            "also installing the dependencies ‘proxy’, ‘rootSolve’, ‘e1071’, ‘lmom’, ‘mvtnorm’, ‘expm’, ‘Rcpp’, ‘Exact’, ‘gld’, ‘BH’\n",
            "\n",
            "\n"
          ]
        }
      ]
    },
    {
      "cell_type": "code",
      "source": [
        "library(dplyr)\n",
        "library(tidyr)\n",
        "library(tibble)\n",
        "library(DescTools)"
      ],
      "metadata": {
        "id": "bzW-JDino-FA",
        "colab": {
          "base_uri": "https://localhost:8080/"
        },
        "outputId": "8d99f100-a776-438a-b9ae-61c664438939"
      },
      "execution_count": null,
      "outputs": [
        {
          "output_type": "stream",
          "name": "stderr",
          "text": [
            "\n",
            "Attaching package: ‘dplyr’\n",
            "\n",
            "\n",
            "The following objects are masked from ‘package:stats’:\n",
            "\n",
            "    filter, lag\n",
            "\n",
            "\n",
            "The following objects are masked from ‘package:base’:\n",
            "\n",
            "    intersect, setdiff, setequal, union\n",
            "\n",
            "\n"
          ]
        }
      ]
    },
    {
      "cell_type": "markdown",
      "source": [
        "# **PART 3**"
      ],
      "metadata": {
        "id": "npODmGxMfmLY"
      }
    },
    {
      "cell_type": "markdown",
      "source": [
        "# Importing the Data"
      ],
      "metadata": {
        "id": "aZt2BQjPb6g1"
      }
    },
    {
      "cell_type": "code",
      "execution_count": null,
      "metadata": {
        "colab": {
          "base_uri": "https://localhost:8080/",
          "height": 599
        },
        "id": "WU9PC5gcbOoa",
        "outputId": "b4184582-452b-44f6-a014-68f683b11f3f"
      },
      "outputs": [
        {
          "output_type": "display_data",
          "data": {
            "text/html": [
              "<table class=\"dataframe\">\n",
              "<caption>A data.frame: 16 × 4</caption>\n",
              "<thead>\n",
              "\t<tr><th scope=col>genre</th><th scope=col>popularity_score</th><th scope=col>danceability</th><th scope=col>energy</th></tr>\n",
              "\t<tr><th scope=col>&lt;chr&gt;</th><th scope=col>&lt;dbl&gt;</th><th scope=col>&lt;dbl&gt;</th><th scope=col>&lt;dbl&gt;</th></tr>\n",
              "</thead>\n",
              "<tbody>\n",
              "\t<tr><td>Pop       </td><td>85</td><td>7</td><td>8</td></tr>\n",
              "\t<tr><td>Pop       </td><td>88</td><td>8</td><td>7</td></tr>\n",
              "\t<tr><td>Pop       </td><td>78</td><td>6</td><td>7</td></tr>\n",
              "\t<tr><td>Pop       </td><td>80</td><td>7</td><td>6</td></tr>\n",
              "\t<tr><td>Hip-Hop   </td><td>75</td><td>6</td><td>9</td></tr>\n",
              "\t<tr><td>Hip-Hop   </td><td>72</td><td>5</td><td>8</td></tr>\n",
              "\t<tr><td>Hip-Hop   </td><td>80</td><td>7</td><td>7</td></tr>\n",
              "\t<tr><td>Hip-Hop   </td><td>77</td><td>6</td><td>6</td></tr>\n",
              "\t<tr><td>Rock      </td><td>23</td><td>5</td><td>8</td></tr>\n",
              "\t<tr><td>Rock      </td><td>11</td><td>6</td><td>7</td></tr>\n",
              "\t<tr><td>Rock      </td><td>31</td><td>4</td><td>6</td></tr>\n",
              "\t<tr><td>Rock      </td><td> 8</td><td>5</td><td>5</td></tr>\n",
              "\t<tr><td>Electronic</td><td>80</td><td>8</td><td>9</td></tr>\n",
              "\t<tr><td>Electronic</td><td>82</td><td>9</td><td>9</td></tr>\n",
              "\t<tr><td>Electronic</td><td>76</td><td>7</td><td>8</td></tr>\n",
              "\t<tr><td>Electronic</td><td>75</td><td>8</td><td>7</td></tr>\n",
              "</tbody>\n",
              "</table>\n"
            ],
            "text/markdown": "\nA data.frame: 16 × 4\n\n| genre &lt;chr&gt; | popularity_score &lt;dbl&gt; | danceability &lt;dbl&gt; | energy &lt;dbl&gt; |\n|---|---|---|---|\n| Pop        | 85 | 7 | 8 |\n| Pop        | 88 | 8 | 7 |\n| Pop        | 78 | 6 | 7 |\n| Pop        | 80 | 7 | 6 |\n| Hip-Hop    | 75 | 6 | 9 |\n| Hip-Hop    | 72 | 5 | 8 |\n| Hip-Hop    | 80 | 7 | 7 |\n| Hip-Hop    | 77 | 6 | 6 |\n| Rock       | 23 | 5 | 8 |\n| Rock       | 11 | 6 | 7 |\n| Rock       | 31 | 4 | 6 |\n| Rock       |  8 | 5 | 5 |\n| Electronic | 80 | 8 | 9 |\n| Electronic | 82 | 9 | 9 |\n| Electronic | 76 | 7 | 8 |\n| Electronic | 75 | 8 | 7 |\n\n",
            "text/latex": "A data.frame: 16 × 4\n\\begin{tabular}{llll}\n genre & popularity\\_score & danceability & energy\\\\\n <chr> & <dbl> & <dbl> & <dbl>\\\\\n\\hline\n\t Pop        & 85 & 7 & 8\\\\\n\t Pop        & 88 & 8 & 7\\\\\n\t Pop        & 78 & 6 & 7\\\\\n\t Pop        & 80 & 7 & 6\\\\\n\t Hip-Hop    & 75 & 6 & 9\\\\\n\t Hip-Hop    & 72 & 5 & 8\\\\\n\t Hip-Hop    & 80 & 7 & 7\\\\\n\t Hip-Hop    & 77 & 6 & 6\\\\\n\t Rock       & 23 & 5 & 8\\\\\n\t Rock       & 11 & 6 & 7\\\\\n\t Rock       & 31 & 4 & 6\\\\\n\t Rock       &  8 & 5 & 5\\\\\n\t Electronic & 80 & 8 & 9\\\\\n\t Electronic & 82 & 9 & 9\\\\\n\t Electronic & 76 & 7 & 8\\\\\n\t Electronic & 75 & 8 & 7\\\\\n\\end{tabular}\n",
            "text/plain": [
              "   genre      popularity_score danceability energy\n",
              "1  Pop        85               7            8     \n",
              "2  Pop        88               8            7     \n",
              "3  Pop        78               6            7     \n",
              "4  Pop        80               7            6     \n",
              "5  Hip-Hop    75               6            9     \n",
              "6  Hip-Hop    72               5            8     \n",
              "7  Hip-Hop    80               7            7     \n",
              "8  Hip-Hop    77               6            6     \n",
              "9  Rock       23               5            8     \n",
              "10 Rock       11               6            7     \n",
              "11 Rock       31               4            6     \n",
              "12 Rock        8               5            5     \n",
              "13 Electronic 80               8            9     \n",
              "14 Electronic 82               9            9     \n",
              "15 Electronic 76               7            8     \n",
              "16 Electronic 75               8            7     "
            ]
          },
          "metadata": {}
        }
      ],
      "source": [
        "scores <- data.frame(\n",
        "  genre = rep(c(\"Pop\", \"Hip-Hop\", \"Rock\", \"Electronic\"), each = 4),\n",
        "  popularity_score = c(85, 88, 78, 80, 75, 72, 80, 77, 23, 11, 31, 8, 80, 82, 76, 75),\n",
        "  danceability = c(7, 8, 6, 7, 6, 5, 7, 6, 5, 6, 4, 5, 8, 9, 7, 8),\n",
        "  energy = c(8, 7, 7, 6, 9, 8, 7, 6, 8, 7, 6, 5, 9, 9, 8, 7)\n",
        ")\n",
        "\n",
        "scores"
      ]
    },
    {
      "cell_type": "markdown",
      "source": [
        "# ANOVA test"
      ],
      "metadata": {
        "id": "MA_4z5OLcDwT"
      }
    },
    {
      "cell_type": "code",
      "source": [
        "popularity_anova <- aov(popularity_score ~ genre, data = scores)\n",
        "popularity_anova_sum = summary(popularity_anova)\n",
        "\n",
        "popularity_anova_sum"
      ],
      "metadata": {
        "colab": {
          "base_uri": "https://localhost:8080/",
          "height": 104
        },
        "id": "6_C-w88mbsyf",
        "outputId": "d1607682-be82-436e-fbd7-9d121567df44"
      },
      "execution_count": null,
      "outputs": [
        {
          "output_type": "display_data",
          "data": {
            "text/plain": [
              "            Df Sum Sq Mean Sq F value   Pr(>F)    \n",
              "genre        3  11166    3722   94.58 1.29e-08 ***\n",
              "Residuals   12    472      39                     \n",
              "---\n",
              "Signif. codes:  0 ‘***’ 0.001 ‘**’ 0.01 ‘*’ 0.05 ‘.’ 0.1 ‘ ’ 1"
            ]
          },
          "metadata": {}
        }
      ]
    },
    {
      "cell_type": "code",
      "source": [
        "danceability_anova <- aov(danceability ~ genre, data = scores)\n",
        "danceability_anova_sum = summary(danceability_anova)\n",
        "\n",
        "danceability_anova_sum"
      ],
      "metadata": {
        "colab": {
          "base_uri": "https://localhost:8080/",
          "height": 104
        },
        "id": "Dwbk5prObs0X",
        "outputId": "d042669d-4c61-4b42-e622-5d81b23f755e"
      },
      "execution_count": null,
      "outputs": [
        {
          "output_type": "display_data",
          "data": {
            "text/plain": [
              "            Df Sum Sq Mean Sq F value  Pr(>F)   \n",
              "genre        3     20   6.667      10 0.00139 **\n",
              "Residuals   12      8   0.667                   \n",
              "---\n",
              "Signif. codes:  0 ‘***’ 0.001 ‘**’ 0.01 ‘*’ 0.05 ‘.’ 0.1 ‘ ’ 1"
            ]
          },
          "metadata": {}
        }
      ]
    },
    {
      "cell_type": "code",
      "source": [
        "energy_anova <- aov(energy ~ genre, data = scores)\n",
        "energy_anova_sum = summary(energy_anova)\n",
        "\n",
        "energy_anova_sum"
      ],
      "metadata": {
        "colab": {
          "base_uri": "https://localhost:8080/",
          "height": 69
        },
        "id": "c1GAq-uxbswG",
        "outputId": "9e558129-a67f-4b9b-bb16-333ff858db97"
      },
      "execution_count": null,
      "outputs": [
        {
          "output_type": "display_data",
          "data": {
            "text/plain": [
              "            Df Sum Sq Mean Sq F value Pr(>F)\n",
              "genre        3  6.687   2.229   1.814  0.198\n",
              "Residuals   12 14.750   1.229               "
            ]
          },
          "metadata": {}
        }
      ]
    },
    {
      "cell_type": "markdown",
      "source": [
        "# Calculating means and standard deviations for popularity_score and danceability\n",
        "### (As the result related to these two attributes were significant.)"
      ],
      "metadata": {
        "id": "zCXhPDWAix6P"
      }
    },
    {
      "cell_type": "code",
      "source": [
        "summary_stats <- scores %>%\n",
        "  group_by(genre) %>%\n",
        "  summarize(mean_popularity = mean(popularity_score), sd_popularity = sd(popularity_score),\n",
        "            mean_danceability = mean(danceability), sd_danceability = sd(danceability))\n",
        "\n",
        "summary_stats"
      ],
      "metadata": {
        "colab": {
          "base_uri": "https://localhost:8080/",
          "height": 223
        },
        "id": "P_04q8P_hjgq",
        "outputId": "00ac9325-1b54-4106-bad6-a0a2d5ff6bbf"
      },
      "execution_count": null,
      "outputs": [
        {
          "output_type": "display_data",
          "data": {
            "text/html": [
              "<table class=\"dataframe\">\n",
              "<caption>A tibble: 4 × 5</caption>\n",
              "<thead>\n",
              "\t<tr><th scope=col>genre</th><th scope=col>mean_popularity</th><th scope=col>sd_popularity</th><th scope=col>mean_danceability</th><th scope=col>sd_danceability</th></tr>\n",
              "\t<tr><th scope=col>&lt;chr&gt;</th><th scope=col>&lt;dbl&gt;</th><th scope=col>&lt;dbl&gt;</th><th scope=col>&lt;dbl&gt;</th><th scope=col>&lt;dbl&gt;</th></tr>\n",
              "</thead>\n",
              "<tbody>\n",
              "\t<tr><td>Electronic</td><td>78.25</td><td> 3.304038</td><td>8</td><td>0.8164966</td></tr>\n",
              "\t<tr><td>Hip-Hop   </td><td>76.00</td><td> 3.366502</td><td>6</td><td>0.8164966</td></tr>\n",
              "\t<tr><td>Pop       </td><td>82.75</td><td> 4.573474</td><td>7</td><td>0.8164966</td></tr>\n",
              "\t<tr><td>Rock      </td><td>18.25</td><td>10.688779</td><td>5</td><td>0.8164966</td></tr>\n",
              "</tbody>\n",
              "</table>\n"
            ],
            "text/markdown": "\nA tibble: 4 × 5\n\n| genre &lt;chr&gt; | mean_popularity &lt;dbl&gt; | sd_popularity &lt;dbl&gt; | mean_danceability &lt;dbl&gt; | sd_danceability &lt;dbl&gt; |\n|---|---|---|---|---|\n| Electronic | 78.25 |  3.304038 | 8 | 0.8164966 |\n| Hip-Hop    | 76.00 |  3.366502 | 6 | 0.8164966 |\n| Pop        | 82.75 |  4.573474 | 7 | 0.8164966 |\n| Rock       | 18.25 | 10.688779 | 5 | 0.8164966 |\n\n",
            "text/latex": "A tibble: 4 × 5\n\\begin{tabular}{lllll}\n genre & mean\\_popularity & sd\\_popularity & mean\\_danceability & sd\\_danceability\\\\\n <chr> & <dbl> & <dbl> & <dbl> & <dbl>\\\\\n\\hline\n\t Electronic & 78.25 &  3.304038 & 8 & 0.8164966\\\\\n\t Hip-Hop    & 76.00 &  3.366502 & 6 & 0.8164966\\\\\n\t Pop        & 82.75 &  4.573474 & 7 & 0.8164966\\\\\n\t Rock       & 18.25 & 10.688779 & 5 & 0.8164966\\\\\n\\end{tabular}\n",
            "text/plain": [
              "  genre      mean_popularity sd_popularity mean_danceability sd_danceability\n",
              "1 Electronic 78.25            3.304038     8                 0.8164966      \n",
              "2 Hip-Hop    76.00            3.366502     6                 0.8164966      \n",
              "3 Pop        82.75            4.573474     7                 0.8164966      \n",
              "4 Rock       18.25           10.688779     5                 0.8164966      "
            ]
          },
          "metadata": {}
        }
      ]
    },
    {
      "cell_type": "markdown",
      "source": [
        "# Determining the critical value for Tukey's HSD method\n",
        "### (for significance-level=0.05, k=4 and df_e=12)"
      ],
      "metadata": {
        "id": "WMBgjd2wp4eJ"
      }
    },
    {
      "cell_type": "code",
      "source": [
        "alpha <- 0.05\n",
        "df_e <- 12 # popularity_anova$df.residual\n",
        "k <- 4 # length(unique(scores$genre))\n",
        "q <- qtukey(1-alpha, df_e, k)\n",
        "\n",
        "q"
      ],
      "metadata": {
        "colab": {
          "base_uri": "https://localhost:8080/",
          "height": 34
        },
        "id": "10Nmv1CeNsKY",
        "outputId": "dd65ed5d-5a7b-4a24-9a23-18a92b3e54f8"
      },
      "execution_count": null,
      "outputs": [
        {
          "output_type": "display_data",
          "data": {
            "text/html": [
              "8.20828290039158"
            ],
            "text/markdown": "8.20828290039158",
            "text/latex": "8.20828290039158",
            "text/plain": [
              "[1] 8.208283"
            ]
          },
          "metadata": {}
        }
      ]
    },
    {
      "cell_type": "markdown",
      "source": [
        "# Calculating the HSD value using the formula: HSD = q * sqrt(MSE/n)"
      ],
      "metadata": {
        "id": "EnpCeavpykxX"
      }
    },
    {
      "cell_type": "code",
      "source": [
        "# MSE\n",
        "mse_popularity <- popularity_anova_sum[[1]][\"Residuals\",\"Mean Sq\"]\n",
        "mse_danceability <- danceability_anova_sum[[1]][\"Residuals\",\"Mean Sq\"]\n",
        "\n",
        "\n",
        "# Sample size (= 16)\n",
        "n_popularity <- length(scores$popularity_score)\n",
        "n_danceability <- length(scores$danceability)\n",
        "\n",
        "\n",
        "# HSD\n",
        "hsd_popularity <- q * sqrt(mse_popularity/n_popularity)\n",
        "hsd_danceability <- q * sqrt(mse_danceability/n_danceability)\n",
        "\n",
        "cat(\"hsd for popularity = \", hsd_popularity, \"\\n\")\n",
        "cat(\"hsd for danceability = \", hsd_danceability)"
      ],
      "metadata": {
        "colab": {
          "base_uri": "https://localhost:8080/"
        },
        "id": "hNeTFOjvbsts",
        "outputId": "0072ae6e-735e-4905-922d-c4373b6cc3f6"
      },
      "execution_count": null,
      "outputs": [
        {
          "output_type": "stream",
          "name": "stdout",
          "text": [
            "hsd for popularity =  12.87323 \n",
            "hsd for danceability =  1.675509"
          ]
        }
      ]
    },
    {
      "cell_type": "markdown",
      "source": [
        "# Calculating the difference between the means for each pair of groups"
      ],
      "metadata": {
        "id": "EQqasX3Q3JDa"
      }
    },
    {
      "cell_type": "code",
      "source": [
        "genre_pairs <- crossing(genre1 = unique(scores$genre), genre2 = unique(scores$genre))\n",
        "\n",
        "# Removing duplicates and pairs with the same genre\n",
        "genre_pairs <- genre_pairs %>%\n",
        "  filter(genre1 != genre2) %>%\n",
        "  arrange(genre1)\n",
        "\n",
        "# Filtering pairs with genre1 of one pair matching genre2 of another pair, and vice versa\n",
        "genre_pairs <- genre_pairs %>%\n",
        "  filter(!((genre_pairs$genre1 %in% genre_pairs$genre2 & genre_pairs$genre2 %in% genre_pairs$genre1) &\n",
        "           (as.numeric(factor(genre_pairs$genre1)) > as.numeric(factor(genre_pairs$genre2))))) %>%\n",
        "  distinct(genre1, genre2)\n",
        "\n",
        "genre_pairs"
      ],
      "metadata": {
        "colab": {
          "base_uri": "https://localhost:8080/",
          "height": 286
        },
        "id": "Lf1a9aBo5W4Z",
        "outputId": "281e5033-a77e-4fe7-b895-ec881a92667a"
      },
      "execution_count": null,
      "outputs": [
        {
          "output_type": "display_data",
          "data": {
            "text/html": [
              "<table class=\"dataframe\">\n",
              "<caption>A tibble: 6 × 2</caption>\n",
              "<thead>\n",
              "\t<tr><th scope=col>genre1</th><th scope=col>genre2</th></tr>\n",
              "\t<tr><th scope=col>&lt;chr&gt;</th><th scope=col>&lt;chr&gt;</th></tr>\n",
              "</thead>\n",
              "<tbody>\n",
              "\t<tr><td>Electronic</td><td>Hip-Hop</td></tr>\n",
              "\t<tr><td>Electronic</td><td>Pop    </td></tr>\n",
              "\t<tr><td>Electronic</td><td>Rock   </td></tr>\n",
              "\t<tr><td>Hip-Hop   </td><td>Pop    </td></tr>\n",
              "\t<tr><td>Hip-Hop   </td><td>Rock   </td></tr>\n",
              "\t<tr><td>Pop       </td><td>Rock   </td></tr>\n",
              "</tbody>\n",
              "</table>\n"
            ],
            "text/markdown": "\nA tibble: 6 × 2\n\n| genre1 &lt;chr&gt; | genre2 &lt;chr&gt; |\n|---|---|\n| Electronic | Hip-Hop |\n| Electronic | Pop     |\n| Electronic | Rock    |\n| Hip-Hop    | Pop     |\n| Hip-Hop    | Rock    |\n| Pop        | Rock    |\n\n",
            "text/latex": "A tibble: 6 × 2\n\\begin{tabular}{ll}\n genre1 & genre2\\\\\n <chr> & <chr>\\\\\n\\hline\n\t Electronic & Hip-Hop\\\\\n\t Electronic & Pop    \\\\\n\t Electronic & Rock   \\\\\n\t Hip-Hop    & Pop    \\\\\n\t Hip-Hop    & Rock   \\\\\n\t Pop        & Rock   \\\\\n\\end{tabular}\n",
            "text/plain": [
              "  genre1     genre2 \n",
              "1 Electronic Hip-Hop\n",
              "2 Electronic Pop    \n",
              "3 Electronic Rock   \n",
              "4 Hip-Hop    Pop    \n",
              "5 Hip-Hop    Rock   \n",
              "6 Pop        Rock   "
            ]
          },
          "metadata": {}
        }
      ]
    },
    {
      "cell_type": "code",
      "source": [
        "for (i in 1:nrow(genre_pairs)) {\n",
        "  genres <- genre_pairs[i, c(\"genre1\", \"genre2\")]\n",
        "  print(genres)\n",
        "\n",
        "  mean_popularity <- summary_stats %>% filter(genre %in% genres) %>% pull(mean_popularity)\n",
        "  print(mean_popularity)\n",
        "  mean_danceability <- summary_stats %>% filter(genre %in% genres) %>% pull(mean_danceability)\n",
        "  print(mean_danceability)\n",
        "\n",
        "  diff_mean_popularity <- abs(mean_popularity[1] - mean_popularity[2])\n",
        "  genre_pairs[i, \"diff_mean_popularity\"] <- diff_mean_popularity\n",
        "  diff_mean_danceability <- abs(mean_danceability[1] - mean_danceability[2])\n",
        "  genre_pairs[i, \"diff_mean_danceability\"] <- diff_mean_danceability\n",
        "}\n",
        "\n",
        "print(genre_pairs)"
      ],
      "metadata": {
        "colab": {
          "base_uri": "https://localhost:8080/"
        },
        "id": "hWQ_Et0gMsUA",
        "outputId": "446cfe2a-44b8-42ea-ad66-69bd27c165c3"
      },
      "execution_count": null,
      "outputs": [
        {
          "output_type": "stream",
          "name": "stdout",
          "text": [
            "\u001b[90m# A tibble: 1 × 2\u001b[39m\n",
            "  genre1     genre2 \n",
            "  \u001b[3m\u001b[90m<chr>\u001b[39m\u001b[23m      \u001b[3m\u001b[90m<chr>\u001b[39m\u001b[23m  \n",
            "\u001b[90m1\u001b[39m Electronic Hip-Hop\n",
            "[1] 78.25 76.00\n",
            "[1] 8 6\n",
            "\u001b[90m# A tibble: 1 × 2\u001b[39m\n",
            "  genre1     genre2\n",
            "  \u001b[3m\u001b[90m<chr>\u001b[39m\u001b[23m      \u001b[3m\u001b[90m<chr>\u001b[39m\u001b[23m \n",
            "\u001b[90m1\u001b[39m Electronic Pop   \n",
            "[1] 78.25 82.75\n",
            "[1] 8 7\n",
            "\u001b[90m# A tibble: 1 × 2\u001b[39m\n",
            "  genre1     genre2\n",
            "  \u001b[3m\u001b[90m<chr>\u001b[39m\u001b[23m      \u001b[3m\u001b[90m<chr>\u001b[39m\u001b[23m \n",
            "\u001b[90m1\u001b[39m Electronic Rock  \n",
            "[1] 78.25 18.25\n",
            "[1] 8 5\n",
            "\u001b[90m# A tibble: 1 × 2\u001b[39m\n",
            "  genre1  genre2\n",
            "  \u001b[3m\u001b[90m<chr>\u001b[39m\u001b[23m   \u001b[3m\u001b[90m<chr>\u001b[39m\u001b[23m \n",
            "\u001b[90m1\u001b[39m Hip-Hop Pop   \n",
            "[1] 76.00 82.75\n",
            "[1] 6 7\n",
            "\u001b[90m# A tibble: 1 × 2\u001b[39m\n",
            "  genre1  genre2\n",
            "  \u001b[3m\u001b[90m<chr>\u001b[39m\u001b[23m   \u001b[3m\u001b[90m<chr>\u001b[39m\u001b[23m \n",
            "\u001b[90m1\u001b[39m Hip-Hop Rock  \n",
            "[1] 76.00 18.25\n",
            "[1] 6 5\n",
            "\u001b[90m# A tibble: 1 × 2\u001b[39m\n",
            "  genre1 genre2\n",
            "  \u001b[3m\u001b[90m<chr>\u001b[39m\u001b[23m  \u001b[3m\u001b[90m<chr>\u001b[39m\u001b[23m \n",
            "\u001b[90m1\u001b[39m Pop    Rock  \n",
            "[1] 82.75 18.25\n",
            "[1] 7 5\n",
            "\u001b[90m# A tibble: 6 × 4\u001b[39m\n",
            "  genre1     genre2  diff_mean_popularity diff_mean_danceability\n",
            "  \u001b[3m\u001b[90m<chr>\u001b[39m\u001b[23m      \u001b[3m\u001b[90m<chr>\u001b[39m\u001b[23m                  \u001b[3m\u001b[90m<dbl>\u001b[39m\u001b[23m                  \u001b[3m\u001b[90m<dbl>\u001b[39m\u001b[23m\n",
            "\u001b[90m1\u001b[39m Electronic Hip-Hop                 2.25                      2\n",
            "\u001b[90m2\u001b[39m Electronic Pop                     4.5                       1\n",
            "\u001b[90m3\u001b[39m Electronic Rock                   60                         3\n",
            "\u001b[90m4\u001b[39m Hip-Hop    Pop                     6.75                      1\n",
            "\u001b[90m5\u001b[39m Hip-Hop    Rock                   57.8                       1\n",
            "\u001b[90m6\u001b[39m Pop        Rock                   64.5                       2\n"
          ]
        }
      ]
    },
    {
      "cell_type": "code",
      "source": [
        "genre_pairs"
      ],
      "metadata": {
        "colab": {
          "base_uri": "https://localhost:8080/",
          "height": 286
        },
        "id": "x5aCCRRIOY65",
        "outputId": "81d55e20-c0e6-4736-8a0e-bc008028b83a"
      },
      "execution_count": null,
      "outputs": [
        {
          "output_type": "display_data",
          "data": {
            "text/html": [
              "<table class=\"dataframe\">\n",
              "<caption>A tibble: 6 × 4</caption>\n",
              "<thead>\n",
              "\t<tr><th scope=col>genre1</th><th scope=col>genre2</th><th scope=col>diff_mean_popularity</th><th scope=col>diff_mean_danceability</th></tr>\n",
              "\t<tr><th scope=col>&lt;chr&gt;</th><th scope=col>&lt;chr&gt;</th><th scope=col>&lt;dbl&gt;</th><th scope=col>&lt;dbl&gt;</th></tr>\n",
              "</thead>\n",
              "<tbody>\n",
              "\t<tr><td>Electronic</td><td>Hip-Hop</td><td> 2.25</td><td>2</td></tr>\n",
              "\t<tr><td>Electronic</td><td>Pop    </td><td> 4.50</td><td>1</td></tr>\n",
              "\t<tr><td>Electronic</td><td>Rock   </td><td>60.00</td><td>3</td></tr>\n",
              "\t<tr><td>Hip-Hop   </td><td>Pop    </td><td> 6.75</td><td>1</td></tr>\n",
              "\t<tr><td>Hip-Hop   </td><td>Rock   </td><td>57.75</td><td>1</td></tr>\n",
              "\t<tr><td>Pop       </td><td>Rock   </td><td>64.50</td><td>2</td></tr>\n",
              "</tbody>\n",
              "</table>\n"
            ],
            "text/markdown": "\nA tibble: 6 × 4\n\n| genre1 &lt;chr&gt; | genre2 &lt;chr&gt; | diff_mean_popularity &lt;dbl&gt; | diff_mean_danceability &lt;dbl&gt; |\n|---|---|---|---|\n| Electronic | Hip-Hop |  2.25 | 2 |\n| Electronic | Pop     |  4.50 | 1 |\n| Electronic | Rock    | 60.00 | 3 |\n| Hip-Hop    | Pop     |  6.75 | 1 |\n| Hip-Hop    | Rock    | 57.75 | 1 |\n| Pop        | Rock    | 64.50 | 2 |\n\n",
            "text/latex": "A tibble: 6 × 4\n\\begin{tabular}{llll}\n genre1 & genre2 & diff\\_mean\\_popularity & diff\\_mean\\_danceability\\\\\n <chr> & <chr> & <dbl> & <dbl>\\\\\n\\hline\n\t Electronic & Hip-Hop &  2.25 & 2\\\\\n\t Electronic & Pop     &  4.50 & 1\\\\\n\t Electronic & Rock    & 60.00 & 3\\\\\n\t Hip-Hop    & Pop     &  6.75 & 1\\\\\n\t Hip-Hop    & Rock    & 57.75 & 1\\\\\n\t Pop        & Rock    & 64.50 & 2\\\\\n\\end{tabular}\n",
            "text/plain": [
              "  genre1     genre2  diff_mean_popularity diff_mean_danceability\n",
              "1 Electronic Hip-Hop  2.25                2                     \n",
              "2 Electronic Pop      4.50                1                     \n",
              "3 Electronic Rock    60.00                3                     \n",
              "4 Hip-Hop    Pop      6.75                1                     \n",
              "5 Hip-Hop    Rock    57.75                1                     \n",
              "6 Pop        Rock    64.50                2                     "
            ]
          },
          "metadata": {}
        }
      ]
    },
    {
      "cell_type": "markdown",
      "source": [
        "# Dividing the absolute difference by the standard error of the difference -> t-value"
      ],
      "metadata": {
        "id": "q9FBhWK-U_iH"
      }
    },
    {
      "cell_type": "code",
      "source": [
        "# Calculating the standard error of the difference\n",
        "std_error_diff_popularity <- sqrt(2 * mse_popularity / n_popularity)\n",
        "std_error_diff_danceability <- sqrt(2 * mse_danceability / n_danceability)\n",
        "\n",
        "for (i in 1:nrow(genre_pairs)) {\n",
        "  # Calculating the t-value for each pair\n",
        "  t_value_popularity = abs(genre_pairs[i, \"diff_mean_popularity\"]) / std_error_diff_popularity\n",
        "  genre_pairs[i, \"t_value_popularity\"] <- t_value_popularity\n",
        "  t_value_danceability = abs(genre_pairs[i, \"diff_mean_danceability\"]) / std_error_diff_danceability\n",
        "  genre_pairs[i, \"t_value_danceability\"] <- t_value_danceability\n",
        "}\n",
        "\n",
        "print(std_error_diff_popularity)\n",
        "print(std_error_diff_danceability)\n",
        "print(genre_pairs)"
      ],
      "metadata": {
        "colab": {
          "base_uri": "https://localhost:8080/"
        },
        "id": "VHflzfwFb3P1",
        "outputId": "cb09affb-4d3f-4c9d-be2b-43a9e1a59b60"
      },
      "execution_count": null,
      "outputs": [
        {
          "output_type": "stream",
          "name": "stdout",
          "text": [
            "[1] 2.217943\n",
            "[1] 0.2886751\n",
            "\u001b[90m# A tibble: 6 × 6\u001b[39m\n",
            "  genre1   genre2 diff_mean_popularity diff_mean_danceability t_value_popularity\n",
            "  \u001b[3m\u001b[90m<chr>\u001b[39m\u001b[23m    \u001b[3m\u001b[90m<chr>\u001b[39m\u001b[23m                 \u001b[3m\u001b[90m<dbl>\u001b[39m\u001b[23m                  \u001b[3m\u001b[90m<dbl>\u001b[39m\u001b[23m              \u001b[3m\u001b[90m<dbl>\u001b[39m\u001b[23m\n",
            "\u001b[90m1\u001b[39m Electro… Hip-H…                 2.25                      2               1.01\n",
            "\u001b[90m2\u001b[39m Electro… Pop                    4.5                       1               2.03\n",
            "\u001b[90m3\u001b[39m Electro… Rock                  60                         3              27.1 \n",
            "\u001b[90m4\u001b[39m Hip-Hop  Pop                    6.75                      1               3.04\n",
            "\u001b[90m5\u001b[39m Hip-Hop  Rock                  57.8                       1              26.0 \n",
            "\u001b[90m6\u001b[39m Pop      Rock                  64.5                       2              29.1 \n",
            "\u001b[90m# ℹ 1 more variable: t_value_danceability <dbl>\u001b[39m\n"
          ]
        }
      ]
    },
    {
      "cell_type": "code",
      "source": [
        "genre_pairs"
      ],
      "metadata": {
        "colab": {
          "base_uri": "https://localhost:8080/",
          "height": 286
        },
        "id": "kfS5RmM1dvYA",
        "outputId": "43d1070b-3da3-459c-cd9c-4d1a557fc354"
      },
      "execution_count": null,
      "outputs": [
        {
          "output_type": "display_data",
          "data": {
            "text/html": [
              "<table class=\"dataframe\">\n",
              "<caption>A tibble: 6 × 6</caption>\n",
              "<thead>\n",
              "\t<tr><th scope=col>genre1</th><th scope=col>genre2</th><th scope=col>diff_mean_popularity</th><th scope=col>diff_mean_danceability</th><th scope=col>t_value_popularity</th><th scope=col>t_value_danceability</th></tr>\n",
              "\t<tr><th scope=col>&lt;chr&gt;</th><th scope=col>&lt;chr&gt;</th><th scope=col>&lt;dbl&gt;</th><th scope=col>&lt;dbl&gt;</th><th scope=col>&lt;dbl&gt;</th><th scope=col>&lt;dbl&gt;</th></tr>\n",
              "</thead>\n",
              "<tbody>\n",
              "\t<tr><td>Electronic</td><td>Hip-Hop</td><td> 2.25</td><td>2</td><td> 1.014454</td><td> 6.928203</td></tr>\n",
              "\t<tr><td>Electronic</td><td>Pop    </td><td> 4.50</td><td>1</td><td> 2.028907</td><td> 3.464102</td></tr>\n",
              "\t<tr><td>Electronic</td><td>Rock   </td><td>60.00</td><td>3</td><td>27.052094</td><td>10.392305</td></tr>\n",
              "\t<tr><td>Hip-Hop   </td><td>Pop    </td><td> 6.75</td><td>1</td><td> 3.043361</td><td> 3.464102</td></tr>\n",
              "\t<tr><td>Hip-Hop   </td><td>Rock   </td><td>57.75</td><td>1</td><td>26.037640</td><td> 3.464102</td></tr>\n",
              "\t<tr><td>Pop       </td><td>Rock   </td><td>64.50</td><td>2</td><td>29.081001</td><td> 6.928203</td></tr>\n",
              "</tbody>\n",
              "</table>\n"
            ],
            "text/markdown": "\nA tibble: 6 × 6\n\n| genre1 &lt;chr&gt; | genre2 &lt;chr&gt; | diff_mean_popularity &lt;dbl&gt; | diff_mean_danceability &lt;dbl&gt; | t_value_popularity &lt;dbl&gt; | t_value_danceability &lt;dbl&gt; |\n|---|---|---|---|---|---|\n| Electronic | Hip-Hop |  2.25 | 2 |  1.014454 |  6.928203 |\n| Electronic | Pop     |  4.50 | 1 |  2.028907 |  3.464102 |\n| Electronic | Rock    | 60.00 | 3 | 27.052094 | 10.392305 |\n| Hip-Hop    | Pop     |  6.75 | 1 |  3.043361 |  3.464102 |\n| Hip-Hop    | Rock    | 57.75 | 1 | 26.037640 |  3.464102 |\n| Pop        | Rock    | 64.50 | 2 | 29.081001 |  6.928203 |\n\n",
            "text/latex": "A tibble: 6 × 6\n\\begin{tabular}{llllll}\n genre1 & genre2 & diff\\_mean\\_popularity & diff\\_mean\\_danceability & t\\_value\\_popularity & t\\_value\\_danceability\\\\\n <chr> & <chr> & <dbl> & <dbl> & <dbl> & <dbl>\\\\\n\\hline\n\t Electronic & Hip-Hop &  2.25 & 2 &  1.014454 &  6.928203\\\\\n\t Electronic & Pop     &  4.50 & 1 &  2.028907 &  3.464102\\\\\n\t Electronic & Rock    & 60.00 & 3 & 27.052094 & 10.392305\\\\\n\t Hip-Hop    & Pop     &  6.75 & 1 &  3.043361 &  3.464102\\\\\n\t Hip-Hop    & Rock    & 57.75 & 1 & 26.037640 &  3.464102\\\\\n\t Pop        & Rock    & 64.50 & 2 & 29.081001 &  6.928203\\\\\n\\end{tabular}\n",
            "text/plain": [
              "  genre1     genre2  diff_mean_popularity diff_mean_danceability\n",
              "1 Electronic Hip-Hop  2.25                2                     \n",
              "2 Electronic Pop      4.50                1                     \n",
              "3 Electronic Rock    60.00                3                     \n",
              "4 Hip-Hop    Pop      6.75                1                     \n",
              "5 Hip-Hop    Rock    57.75                1                     \n",
              "6 Pop        Rock    64.50                2                     \n",
              "  t_value_popularity t_value_danceability\n",
              "1  1.014454           6.928203           \n",
              "2  2.028907           3.464102           \n",
              "3 27.052094          10.392305           \n",
              "4  3.043361           3.464102           \n",
              "5 26.037640           3.464102           \n",
              "6 29.081001           6.928203           "
            ]
          },
          "metadata": {}
        }
      ]
    },
    {
      "cell_type": "markdown",
      "source": [
        "# Comparing the HSD value and t-value\n",
        "## (If the t-value is greater than the HSD value, then the difference between the means is considered statistically significant.)"
      ],
      "metadata": {
        "id": "o6A_PvuHgx66"
      }
    },
    {
      "cell_type": "code",
      "source": [
        "print(hsd_popularity)\n",
        "print(hsd_danceability)"
      ],
      "metadata": {
        "colab": {
          "base_uri": "https://localhost:8080/"
        },
        "id": "Z77Gpm4siNII",
        "outputId": "5dd20ca7-1584-4e62-f816-21c7e40ebb04"
      },
      "execution_count": null,
      "outputs": [
        {
          "output_type": "stream",
          "name": "stdout",
          "text": [
            "[1] 12.87323\n",
            "[1] 1.675509\n"
          ]
        }
      ]
    },
    {
      "cell_type": "code",
      "source": [
        "genre_pairs$significant_popularity_diff_mean <- ifelse(abs(genre_pairs$t_value_popularity) > hsd_popularity, \"Yes\", \"No\")\n",
        "genre_pairs$significant_danceability_diff_mean <- ifelse(abs(genre_pairs$t_value_danceability) > hsd_danceability, \"Yes\", \"No\")\n",
        "\n",
        "genre_pairs"
      ],
      "metadata": {
        "colab": {
          "base_uri": "https://localhost:8080/",
          "height": 286
        },
        "id": "f9QFI7U9eNmY",
        "outputId": "f90ad6de-ec0e-43d6-b014-79007af2759c"
      },
      "execution_count": null,
      "outputs": [
        {
          "output_type": "display_data",
          "data": {
            "text/html": [
              "<table class=\"dataframe\">\n",
              "<caption>A tibble: 6 × 8</caption>\n",
              "<thead>\n",
              "\t<tr><th scope=col>genre1</th><th scope=col>genre2</th><th scope=col>diff_mean_popularity</th><th scope=col>diff_mean_danceability</th><th scope=col>t_value_popularity</th><th scope=col>t_value_danceability</th><th scope=col>significant_popularity_diff_mean</th><th scope=col>significant_danceability_diff_mean</th></tr>\n",
              "\t<tr><th scope=col>&lt;chr&gt;</th><th scope=col>&lt;chr&gt;</th><th scope=col>&lt;dbl&gt;</th><th scope=col>&lt;dbl&gt;</th><th scope=col>&lt;dbl&gt;</th><th scope=col>&lt;dbl&gt;</th><th scope=col>&lt;chr&gt;</th><th scope=col>&lt;chr&gt;</th></tr>\n",
              "</thead>\n",
              "<tbody>\n",
              "\t<tr><td>Electronic</td><td>Hip-Hop</td><td> 2.25</td><td>2</td><td> 1.014454</td><td> 6.928203</td><td>No </td><td>Yes</td></tr>\n",
              "\t<tr><td>Electronic</td><td>Pop    </td><td> 4.50</td><td>1</td><td> 2.028907</td><td> 3.464102</td><td>No </td><td>Yes</td></tr>\n",
              "\t<tr><td>Electronic</td><td>Rock   </td><td>60.00</td><td>3</td><td>27.052094</td><td>10.392305</td><td>Yes</td><td>Yes</td></tr>\n",
              "\t<tr><td>Hip-Hop   </td><td>Pop    </td><td> 6.75</td><td>1</td><td> 3.043361</td><td> 3.464102</td><td>No </td><td>Yes</td></tr>\n",
              "\t<tr><td>Hip-Hop   </td><td>Rock   </td><td>57.75</td><td>1</td><td>26.037640</td><td> 3.464102</td><td>Yes</td><td>Yes</td></tr>\n",
              "\t<tr><td>Pop       </td><td>Rock   </td><td>64.50</td><td>2</td><td>29.081001</td><td> 6.928203</td><td>Yes</td><td>Yes</td></tr>\n",
              "</tbody>\n",
              "</table>\n"
            ],
            "text/markdown": "\nA tibble: 6 × 8\n\n| genre1 &lt;chr&gt; | genre2 &lt;chr&gt; | diff_mean_popularity &lt;dbl&gt; | diff_mean_danceability &lt;dbl&gt; | t_value_popularity &lt;dbl&gt; | t_value_danceability &lt;dbl&gt; | significant_popularity_diff_mean &lt;chr&gt; | significant_danceability_diff_mean &lt;chr&gt; |\n|---|---|---|---|---|---|---|---|\n| Electronic | Hip-Hop |  2.25 | 2 |  1.014454 |  6.928203 | No  | Yes |\n| Electronic | Pop     |  4.50 | 1 |  2.028907 |  3.464102 | No  | Yes |\n| Electronic | Rock    | 60.00 | 3 | 27.052094 | 10.392305 | Yes | Yes |\n| Hip-Hop    | Pop     |  6.75 | 1 |  3.043361 |  3.464102 | No  | Yes |\n| Hip-Hop    | Rock    | 57.75 | 1 | 26.037640 |  3.464102 | Yes | Yes |\n| Pop        | Rock    | 64.50 | 2 | 29.081001 |  6.928203 | Yes | Yes |\n\n",
            "text/latex": "A tibble: 6 × 8\n\\begin{tabular}{llllllll}\n genre1 & genre2 & diff\\_mean\\_popularity & diff\\_mean\\_danceability & t\\_value\\_popularity & t\\_value\\_danceability & significant\\_popularity\\_diff\\_mean & significant\\_danceability\\_diff\\_mean\\\\\n <chr> & <chr> & <dbl> & <dbl> & <dbl> & <dbl> & <chr> & <chr>\\\\\n\\hline\n\t Electronic & Hip-Hop &  2.25 & 2 &  1.014454 &  6.928203 & No  & Yes\\\\\n\t Electronic & Pop     &  4.50 & 1 &  2.028907 &  3.464102 & No  & Yes\\\\\n\t Electronic & Rock    & 60.00 & 3 & 27.052094 & 10.392305 & Yes & Yes\\\\\n\t Hip-Hop    & Pop     &  6.75 & 1 &  3.043361 &  3.464102 & No  & Yes\\\\\n\t Hip-Hop    & Rock    & 57.75 & 1 & 26.037640 &  3.464102 & Yes & Yes\\\\\n\t Pop        & Rock    & 64.50 & 2 & 29.081001 &  6.928203 & Yes & Yes\\\\\n\\end{tabular}\n",
            "text/plain": [
              "  genre1     genre2  diff_mean_popularity diff_mean_danceability\n",
              "1 Electronic Hip-Hop  2.25                2                     \n",
              "2 Electronic Pop      4.50                1                     \n",
              "3 Electronic Rock    60.00                3                     \n",
              "4 Hip-Hop    Pop      6.75                1                     \n",
              "5 Hip-Hop    Rock    57.75                1                     \n",
              "6 Pop        Rock    64.50                2                     \n",
              "  t_value_popularity t_value_danceability significant_popularity_diff_mean\n",
              "1  1.014454           6.928203            No                              \n",
              "2  2.028907           3.464102            No                              \n",
              "3 27.052094          10.392305            Yes                             \n",
              "4  3.043361           3.464102            No                              \n",
              "5 26.037640           3.464102            Yes                             \n",
              "6 29.081001           6.928203            Yes                             \n",
              "  significant_danceability_diff_mean\n",
              "1 Yes                               \n",
              "2 Yes                               \n",
              "3 Yes                               \n",
              "4 Yes                               \n",
              "5 Yes                               \n",
              "6 Yes                               "
            ]
          },
          "metadata": {}
        }
      ]
    },
    {
      "cell_type": "code",
      "source": [
        "genre_pairs[, c('genre1', 'genre2', 'diff_mean_popularity', 'diff_mean_danceability', 'significant_popularity_diff_mean', 'significant_danceability_diff_mean')]"
      ],
      "metadata": {
        "colab": {
          "base_uri": "https://localhost:8080/",
          "height": 286
        },
        "id": "np2i9-4MeNiB",
        "outputId": "246a7091-fbfe-4fd6-c825-f14413d6a701"
      },
      "execution_count": null,
      "outputs": [
        {
          "output_type": "display_data",
          "data": {
            "text/html": [
              "<table class=\"dataframe\">\n",
              "<caption>A tibble: 6 × 6</caption>\n",
              "<thead>\n",
              "\t<tr><th scope=col>genre1</th><th scope=col>genre2</th><th scope=col>diff_mean_popularity</th><th scope=col>diff_mean_danceability</th><th scope=col>significant_popularity_diff_mean</th><th scope=col>significant_danceability_diff_mean</th></tr>\n",
              "\t<tr><th scope=col>&lt;chr&gt;</th><th scope=col>&lt;chr&gt;</th><th scope=col>&lt;dbl&gt;</th><th scope=col>&lt;dbl&gt;</th><th scope=col>&lt;chr&gt;</th><th scope=col>&lt;chr&gt;</th></tr>\n",
              "</thead>\n",
              "<tbody>\n",
              "\t<tr><td>Electronic</td><td>Hip-Hop</td><td> 2.25</td><td>2</td><td>No </td><td>Yes</td></tr>\n",
              "\t<tr><td>Electronic</td><td>Pop    </td><td> 4.50</td><td>1</td><td>No </td><td>Yes</td></tr>\n",
              "\t<tr><td>Electronic</td><td>Rock   </td><td>60.00</td><td>3</td><td>Yes</td><td>Yes</td></tr>\n",
              "\t<tr><td>Hip-Hop   </td><td>Pop    </td><td> 6.75</td><td>1</td><td>No </td><td>Yes</td></tr>\n",
              "\t<tr><td>Hip-Hop   </td><td>Rock   </td><td>57.75</td><td>1</td><td>Yes</td><td>Yes</td></tr>\n",
              "\t<tr><td>Pop       </td><td>Rock   </td><td>64.50</td><td>2</td><td>Yes</td><td>Yes</td></tr>\n",
              "</tbody>\n",
              "</table>\n"
            ],
            "text/markdown": "\nA tibble: 6 × 6\n\n| genre1 &lt;chr&gt; | genre2 &lt;chr&gt; | diff_mean_popularity &lt;dbl&gt; | diff_mean_danceability &lt;dbl&gt; | significant_popularity_diff_mean &lt;chr&gt; | significant_danceability_diff_mean &lt;chr&gt; |\n|---|---|---|---|---|---|\n| Electronic | Hip-Hop |  2.25 | 2 | No  | Yes |\n| Electronic | Pop     |  4.50 | 1 | No  | Yes |\n| Electronic | Rock    | 60.00 | 3 | Yes | Yes |\n| Hip-Hop    | Pop     |  6.75 | 1 | No  | Yes |\n| Hip-Hop    | Rock    | 57.75 | 1 | Yes | Yes |\n| Pop        | Rock    | 64.50 | 2 | Yes | Yes |\n\n",
            "text/latex": "A tibble: 6 × 6\n\\begin{tabular}{llllll}\n genre1 & genre2 & diff\\_mean\\_popularity & diff\\_mean\\_danceability & significant\\_popularity\\_diff\\_mean & significant\\_danceability\\_diff\\_mean\\\\\n <chr> & <chr> & <dbl> & <dbl> & <chr> & <chr>\\\\\n\\hline\n\t Electronic & Hip-Hop &  2.25 & 2 & No  & Yes\\\\\n\t Electronic & Pop     &  4.50 & 1 & No  & Yes\\\\\n\t Electronic & Rock    & 60.00 & 3 & Yes & Yes\\\\\n\t Hip-Hop    & Pop     &  6.75 & 1 & No  & Yes\\\\\n\t Hip-Hop    & Rock    & 57.75 & 1 & Yes & Yes\\\\\n\t Pop        & Rock    & 64.50 & 2 & Yes & Yes\\\\\n\\end{tabular}\n",
            "text/plain": [
              "  genre1     genre2  diff_mean_popularity diff_mean_danceability\n",
              "1 Electronic Hip-Hop  2.25                2                     \n",
              "2 Electronic Pop      4.50                1                     \n",
              "3 Electronic Rock    60.00                3                     \n",
              "4 Hip-Hop    Pop      6.75                1                     \n",
              "5 Hip-Hop    Rock    57.75                1                     \n",
              "6 Pop        Rock    64.50                2                     \n",
              "  significant_popularity_diff_mean significant_danceability_diff_mean\n",
              "1 No                               Yes                               \n",
              "2 No                               Yes                               \n",
              "3 Yes                              Yes                               \n",
              "4 No                               Yes                               \n",
              "5 Yes                              Yes                               \n",
              "6 Yes                              Yes                               "
            ]
          },
          "metadata": {}
        }
      ]
    },
    {
      "cell_type": "markdown",
      "source": [
        "# **PART 4**"
      ],
      "metadata": {
        "id": "NS8YQe_ZfyfY"
      }
    },
    {
      "cell_type": "markdown",
      "source": [
        "## 2-way ANOVA"
      ],
      "metadata": {
        "id": "xM7ij8q01n4A"
      }
    },
    {
      "cell_type": "code",
      "source": [
        "model <- lm(popularity_score ~ danceability * energy * genre, data = scores)\n",
        "anova_2way = anova(model)\n",
        "\n",
        "anova_2way"
      ],
      "metadata": {
        "colab": {
          "base_uri": "https://localhost:8080/",
          "height": 349
        },
        "id": "I3siJmqBf0jv",
        "outputId": "118fa5a7-29e6-4390-be58-88b899e8d63a"
      },
      "execution_count": null,
      "outputs": [
        {
          "output_type": "display_data",
          "data": {
            "text/html": [
              "<table class=\"dataframe\">\n",
              "<caption>A anova: 8 × 5</caption>\n",
              "<thead>\n",
              "\t<tr><th></th><th scope=col>Df</th><th scope=col>Sum Sq</th><th scope=col>Mean Sq</th><th scope=col>F value</th><th scope=col>Pr(&gt;F)</th></tr>\n",
              "\t<tr><th></th><th scope=col>&lt;int&gt;</th><th scope=col>&lt;dbl&gt;</th><th scope=col>&lt;dbl&gt;</th><th scope=col>&lt;dbl&gt;</th><th scope=col>&lt;dbl&gt;</th></tr>\n",
              "</thead>\n",
              "<tbody>\n",
              "\t<tr><th scope=row>danceability</th><td>1</td><td>5089.50893</td><td>5089.508929</td><td>20358.03571</td><td>0.004461748</td></tr>\n",
              "\t<tr><th scope=row>energy</th><td>1</td><td> 244.22232</td><td> 244.222321</td><td>  976.88929</td><td>0.020361479</td></tr>\n",
              "\t<tr><th scope=row>genre</th><td>3</td><td>5858.49471</td><td>1952.831571</td><td> 7811.32628</td><td>0.008317154</td></tr>\n",
              "\t<tr><th scope=row>danceability:energy</th><td>1</td><td>  32.26765</td><td>  32.267647</td><td>  129.07059</td><td>0.055891869</td></tr>\n",
              "\t<tr><th scope=row>danceability:genre</th><td>3</td><td> 314.21270</td><td> 104.737566</td><td>  418.95026</td><td>0.035895334</td></tr>\n",
              "\t<tr><th scope=row>energy:genre</th><td>3</td><td>  80.51004</td><td>  26.836680</td><td>  107.34672</td><td>0.070803974</td></tr>\n",
              "\t<tr><th scope=row>danceability:energy:genre</th><td>2</td><td>  18.97115</td><td>   9.485577</td><td>   37.94231</td><td>0.114046058</td></tr>\n",
              "\t<tr><th scope=row>Residuals</th><td>1</td><td>   0.25000</td><td>   0.250000</td><td>         NA</td><td>         NA</td></tr>\n",
              "</tbody>\n",
              "</table>\n"
            ],
            "text/markdown": "\nA anova: 8 × 5\n\n| <!--/--> | Df &lt;int&gt; | Sum Sq &lt;dbl&gt; | Mean Sq &lt;dbl&gt; | F value &lt;dbl&gt; | Pr(&gt;F) &lt;dbl&gt; |\n|---|---|---|---|---|---|\n| danceability | 1 | 5089.50893 | 5089.508929 | 20358.03571 | 0.004461748 |\n| energy | 1 |  244.22232 |  244.222321 |   976.88929 | 0.020361479 |\n| genre | 3 | 5858.49471 | 1952.831571 |  7811.32628 | 0.008317154 |\n| danceability:energy | 1 |   32.26765 |   32.267647 |   129.07059 | 0.055891869 |\n| danceability:genre | 3 |  314.21270 |  104.737566 |   418.95026 | 0.035895334 |\n| energy:genre | 3 |   80.51004 |   26.836680 |   107.34672 | 0.070803974 |\n| danceability:energy:genre | 2 |   18.97115 |    9.485577 |    37.94231 | 0.114046058 |\n| Residuals | 1 |    0.25000 |    0.250000 |          NA |          NA |\n\n",
            "text/latex": "A anova: 8 × 5\n\\begin{tabular}{r|lllll}\n  & Df & Sum Sq & Mean Sq & F value & Pr(>F)\\\\\n  & <int> & <dbl> & <dbl> & <dbl> & <dbl>\\\\\n\\hline\n\tdanceability & 1 & 5089.50893 & 5089.508929 & 20358.03571 & 0.004461748\\\\\n\tenergy & 1 &  244.22232 &  244.222321 &   976.88929 & 0.020361479\\\\\n\tgenre & 3 & 5858.49471 & 1952.831571 &  7811.32628 & 0.008317154\\\\\n\tdanceability:energy & 1 &   32.26765 &   32.267647 &   129.07059 & 0.055891869\\\\\n\tdanceability:genre & 3 &  314.21270 &  104.737566 &   418.95026 & 0.035895334\\\\\n\tenergy:genre & 3 &   80.51004 &   26.836680 &   107.34672 & 0.070803974\\\\\n\tdanceability:energy:genre & 2 &   18.97115 &    9.485577 &    37.94231 & 0.114046058\\\\\n\tResiduals & 1 &    0.25000 &    0.250000 &          NA &          NA\\\\\n\\end{tabular}\n",
            "text/plain": [
              "                          Df Sum Sq     Mean Sq     F value     Pr(>F)     \n",
              "danceability              1  5089.50893 5089.508929 20358.03571 0.004461748\n",
              "energy                    1   244.22232  244.222321   976.88929 0.020361479\n",
              "genre                     3  5858.49471 1952.831571  7811.32628 0.008317154\n",
              "danceability:energy       1    32.26765   32.267647   129.07059 0.055891869\n",
              "danceability:genre        3   314.21270  104.737566   418.95026 0.035895334\n",
              "energy:genre              3    80.51004   26.836680   107.34672 0.070803974\n",
              "danceability:energy:genre 2    18.97115    9.485577    37.94231 0.114046058\n",
              "Residuals                 1     0.25000    0.250000          NA          NA"
            ]
          },
          "metadata": {}
        }
      ]
    },
    {
      "cell_type": "markdown",
      "source": [
        "# **PART 5**"
      ],
      "metadata": {
        "id": "JjoE0z1hFu1q"
      }
    },
    {
      "cell_type": "markdown",
      "source": [
        "# Performing multiple linear regression analysis"
      ],
      "metadata": {
        "id": "PkCyWFwZGzCb"
      }
    },
    {
      "cell_type": "code",
      "source": [
        "mlr <- lm(popularity_score ~ danceability + energy, data = scores)\n",
        "mlr_sum = summary(mlr)\n",
        "\n",
        "mlr_sum"
      ],
      "metadata": {
        "colab": {
          "base_uri": "https://localhost:8080/",
          "height": 347
        },
        "id": "k9eOqqFGFuky",
        "outputId": "391fe384-fb5b-4ad0-d02e-8e6060c9d7a2"
      },
      "execution_count": null,
      "outputs": [
        {
          "output_type": "display_data",
          "data": {
            "text/plain": [
              "\n",
              "Call:\n",
              "lm(formula = popularity_score ~ danceability + energy, data = scores)\n",
              "\n",
              "Residuals:\n",
              "    Min      1Q  Median      3Q     Max \n",
              "-45.604 -10.759   5.406  13.196  24.131 \n",
              "\n",
              "Coefficients:\n",
              "             Estimate Std. Error t value Pr(>|t|)  \n",
              "(Intercept)   -42.033     37.692  -1.115   0.2850  \n",
              "danceability   12.081      4.606   2.623   0.0211 *\n",
              "energy          3.736      5.264   0.710   0.4905  \n",
              "---\n",
              "Signif. codes:  0 ‘***’ 0.001 ‘**’ 0.01 ‘*’ 0.05 ‘.’ 0.1 ‘ ’ 1\n",
              "\n",
              "Residual standard error: 22.02 on 13 degrees of freedom\n",
              "Multiple R-squared:  0.4583,\tAdjusted R-squared:  0.3749 \n",
              "F-statistic: 5.499 on 2 and 13 DF,  p-value: 0.0186\n"
            ]
          },
          "metadata": {}
        }
      ]
    }
  ]
}