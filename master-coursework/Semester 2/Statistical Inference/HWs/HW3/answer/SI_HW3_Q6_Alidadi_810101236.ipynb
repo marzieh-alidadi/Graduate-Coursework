{
  "nbformat": 4,
  "nbformat_minor": 0,
  "metadata": {
    "colab": {
      "provenance": []
    },
    "kernelspec": {
      "name": "ir",
      "display_name": "R"
    },
    "language_info": {
      "name": "R"
    }
  },
  "cells": [
    {
      "cell_type": "markdown",
      "source": [
        "#developing a model to classify images of handwritten digits from the MNIST train set, and evaluating its performance on 500 random samples of MNIST test set:"
      ],
      "metadata": {
        "id": "ZSxeJ1tS6pxu"
      }
    },
    {
      "cell_type": "code",
      "execution_count": 43,
      "metadata": {
        "id": "cBdsG8TcMZ_y",
        "colab": {
          "base_uri": "https://localhost:8080/"
        },
        "outputId": "90359146-ba00-49c6-822f-14c2a5e5c220"
      },
      "outputs": [
        {
          "output_type": "stream",
          "name": "stderr",
          "text": [
            "Installing package into ‘/usr/local/lib/R/site-library’\n",
            "(as ‘lib’ is unspecified)\n",
            "\n"
          ]
        }
      ],
      "source": [
        "install.packages(\"keras\")\n",
        "\n",
        "library(keras)\n",
        "\n",
        "# Load the MNIST data\n",
        "mnist <- dataset_mnist()\n",
        "x_train <- mnist$train$x\n",
        "y_train <- mnist$train$y\n",
        "x_test <- mnist$test$x\n",
        "y_test <- mnist$test$y\n",
        "\n",
        "# Reshape input data to match the expected shape of the Keras model\n",
        "x_train <- k_reshape(x_train, c(dim(x_train)[1], 28, 28, 1))\n",
        "x_test <- k_reshape(x_test, c(dim(x_test)[1], 28, 28, 1))\n",
        "\n",
        "# Define the deep learning model architecture\n",
        "model <- keras_model_sequential() %>%\n",
        "  layer_conv_2d(filters = 32, kernel_size = c(3, 3), activation = \"relu\", input_shape = c(28, 28, 1)) %>%\n",
        "  layer_max_pooling_2d(pool_size = c(2, 2)) %>%\n",
        "  layer_flatten() %>%\n",
        "  layer_dense(units = 128, activation = \"relu\") %>%\n",
        "  layer_dropout(rate = 0.5) %>%\n",
        "  layer_dense(units = 10, activation = \"softmax\")\n",
        "\n",
        "# Compile the model\n",
        "model %>% compile(\n",
        "  loss = \"sparse_categorical_crossentropy\",\n",
        "  optimizer = optimizer_adam(),\n",
        "  metrics = c(\"accuracy\")\n",
        ")\n",
        "\n",
        "# Train the model on the MNIST training data\n",
        "history <- model %>% fit(\n",
        "  x_train, y_train,\n",
        "  epochs = 10,\n",
        "  batch_size = 128,\n",
        "  validation_split = 0.2\n",
        ")\n",
        "\n",
        "# Use the model to predict class labels for 5000 images from a new dataset\n",
        "new_data <- x_test[1:5000, , , ] # extract 5000 images from the test set\n",
        "predictions <- predict(model, new_data) # make predictions on the new data\n",
        "\n",
        "#Extract the predicted and actual classes for the first 500 images\n",
        "predicted_classes <- apply(predictions[1:500, ], 1, which.max) - 1 # subtract 1 to convert to digits 0-9\n",
        "\n",
        "actual_classes <- y_test[1:500]  # extract actual labels from the test set\n",
        "\n",
        "# Store the predicted and actual classes in a dataframe\n",
        "results_df <- data.frame(predicted = predicted_classes, actual = actual_classes)"
      ]
    },
    {
      "cell_type": "markdown",
      "source": [
        "#performing a goodness-of-fit test using the chi-squared test statistic and a significance level of 0.05:"
      ],
      "metadata": {
        "id": "oOLuaMkZDM_K"
      }
    },
    {
      "cell_type": "markdown",
      "source": [
        "### observed counts for each class:"
      ],
      "metadata": {
        "id": "_FMXOAR074zw"
      }
    },
    {
      "cell_type": "code",
      "source": [
        "observed <- table(results_df$predicted)\n",
        "observed"
      ],
      "metadata": {
        "colab": {
          "base_uri": "https://localhost:8080/",
          "height": 69
        },
        "id": "xh9I3ixJ5Gx_",
        "outputId": "5b8e7779-1d7c-451a-a909-92564f264f0e"
      },
      "execution_count": 65,
      "outputs": [
        {
          "output_type": "display_data",
          "data": {
            "text/plain": [
              "\n",
              " 0  1  2  3  4  5  6  7  8  9 \n",
              "44 67 54 47 55 48 42 51 40 52 "
            ]
          },
          "metadata": {}
        }
      ]
    },
    {
      "cell_type": "markdown",
      "source": [
        "### expected prpbability for each class:"
      ],
      "metadata": {
        "id": "1ds4ATNI6j7u"
      }
    },
    {
      "cell_type": "code",
      "source": [
        "expected <- rep(1/10, 10)\n",
        "expected"
      ],
      "metadata": {
        "colab": {
          "base_uri": "https://localhost:8080/",
          "height": 34
        },
        "id": "1zBVxIug5VU7",
        "outputId": "df89383c-b362-4829-ffd8-458b023e7703"
      },
      "execution_count": 66,
      "outputs": [
        {
          "output_type": "display_data",
          "data": {
            "text/html": [
              "<style>\n",
              ".list-inline {list-style: none; margin:0; padding: 0}\n",
              ".list-inline>li {display: inline-block}\n",
              ".list-inline>li:not(:last-child)::after {content: \"\\00b7\"; padding: 0 .5ex}\n",
              "</style>\n",
              "<ol class=list-inline><li>0.1</li><li>0.1</li><li>0.1</li><li>0.1</li><li>0.1</li><li>0.1</li><li>0.1</li><li>0.1</li><li>0.1</li><li>0.1</li></ol>\n"
            ],
            "text/markdown": "1. 0.1\n2. 0.1\n3. 0.1\n4. 0.1\n5. 0.1\n6. 0.1\n7. 0.1\n8. 0.1\n9. 0.1\n10. 0.1\n\n\n",
            "text/latex": "\\begin{enumerate*}\n\\item 0.1\n\\item 0.1\n\\item 0.1\n\\item 0.1\n\\item 0.1\n\\item 0.1\n\\item 0.1\n\\item 0.1\n\\item 0.1\n\\item 0.1\n\\end{enumerate*}\n",
            "text/plain": [
              " [1] 0.1 0.1 0.1 0.1 0.1 0.1 0.1 0.1 0.1 0.1"
            ]
          },
          "metadata": {}
        }
      ]
    },
    {
      "cell_type": "markdown",
      "source": [
        "###chi-squared statistic, degrees of freedom, and p-value:"
      ],
      "metadata": {
        "id": "TLnnTBm58MpI"
      }
    },
    {
      "cell_type": "code",
      "source": [
        "result <- chisq.test(observed, p=expected)\n",
        "result"
      ],
      "metadata": {
        "colab": {
          "base_uri": "https://localhost:8080/",
          "height": 104
        },
        "id": "sMobyxItF95-",
        "outputId": "2b172469-8f5f-40ed-a22b-042111872d16"
      },
      "execution_count": 68,
      "outputs": [
        {
          "output_type": "display_data",
          "data": {
            "text/plain": [
              "\n",
              "\tChi-squared test for given probabilities\n",
              "\n",
              "data:  observed\n",
              "X-squared = 10.96, df = 9, p-value = 0.2785\n"
            ]
          },
          "metadata": {}
        }
      ]
    },
    {
      "cell_type": "markdown",
      "source": [
        "###critical value for df=9 and significance level=0.05:"
      ],
      "metadata": {
        "id": "6KoQ0cqdJHM4"
      }
    },
    {
      "cell_type": "code",
      "source": [
        "critical_value <- qchisq((1-0.05), dim(observed)-1)\n",
        "critical_value"
      ],
      "metadata": {
        "colab": {
          "base_uri": "https://localhost:8080/",
          "height": 34
        },
        "id": "Ui0ayebf5U6L",
        "outputId": "22c5eccc-3c67-42fb-d83d-532067696265"
      },
      "execution_count": 76,
      "outputs": [
        {
          "output_type": "display_data",
          "data": {
            "text/html": [
              "16.9189776046204"
            ],
            "text/markdown": "16.9189776046204",
            "text/latex": "16.9189776046204",
            "text/plain": [
              "[1] 16.91898"
            ]
          },
          "metadata": {}
        }
      ]
    }
  ]
}